{
  "cells": [
    {
      "cell_type": "code",
      "execution_count": null,
      "metadata": {
        "id": "3MeKai5Xj6eX"
      },
      "outputs": [],
      "source": [
        "import numpy as np\n",
        "import math\n",
        "import matplotlib.pyplot as plt\n",
        "import pandas as pd\n",
        "from sklearn.datasets import make_regression\n",
        "from sklearn.metrics import accuracy_score, r2_score\n",
        "from sklearn.model_selection import train_test_split\n",
        "from sklearn.preprocessing import StandardScaler\n",
        "from torchvision.datasets import MNIST\n",
        "from torchvision.transforms import ToTensor"
      ]
    },
    {
      "cell_type": "markdown",
      "metadata": {
        "id": "wwlFrG-Tj6eY"
      },
      "source": [
        "**Module** is an abstract class which defines fundamental methods necessary for a training a neural network. You do not need to change anything here, just read the comments."
      ]
    },
    {
      "cell_type": "code",
      "execution_count": null,
      "metadata": {
        "id": "W8BLmtZ3j6eZ"
      },
      "outputs": [],
      "source": [
        "class Module(object):\n",
        "    \"\"\"\n",
        "    Basically, you can think of a module as of a something (black box)\n",
        "    which can process `input` data and produce `ouput` data.\n",
        "    This is like applying a function which is called `forward`:\n",
        "\n",
        "        output = module.forward(input)\n",
        "\n",
        "    The module should be able to perform a backward pass: to differentiate the `forward` function.\n",
        "    More, it should be able to differentiate it if is a part of chain (chain rule).\n",
        "    The latter implies there is a gradient from previous step of a chain rule.\n",
        "\n",
        "        gradInput = module.backward(input, gradOutput)\n",
        "    \"\"\"\n",
        "    def __init__ (self):\n",
        "        self.output = None\n",
        "        self.gradInput = None\n",
        "        self.training = True\n",
        "\n",
        "    def forward(self, input):\n",
        "        \"\"\"\n",
        "        Takes an input object, and computes the corresponding output of the module.\n",
        "        \"\"\"\n",
        "        return self.updateOutput(input)\n",
        "\n",
        "    def backward(self,input, gradOutput):\n",
        "        \"\"\"\n",
        "        Performs a backpropagation step through the module, with respect to the given input.\n",
        "\n",
        "        This includes\n",
        "         - computing a gradient w.r.t. `input` (is needed for further backprop),\n",
        "         - computing a gradient w.r.t. parameters (to update parameters while optimizing).\n",
        "        \"\"\"\n",
        "        self.updateGradInput(input, gradOutput)\n",
        "        self.accGradParameters(input, gradOutput)\n",
        "        return self.gradInput\n",
        "\n",
        "\n",
        "    def updateOutput(self, input):\n",
        "        \"\"\"\n",
        "        Computes the output using the current parameter set of the class and input.\n",
        "        This function returns the result which is stored in the `output` field.\n",
        "\n",
        "        Make sure to both store the data in `output` field and return it.\n",
        "        \"\"\"\n",
        "\n",
        "        # The easiest case:\n",
        "\n",
        "        # self.output = input\n",
        "        # return self.output\n",
        "\n",
        "        pass\n",
        "\n",
        "    def updateGradInput(self, input, gradOutput):\n",
        "        \"\"\"\n",
        "        Computing the gradient of the module with respect to its own input.\n",
        "        This is returned in `gradInput`. Also, the `gradInput` state variable is updated accordingly.\n",
        "\n",
        "        The shape of `gradInput` is always the same as the shape of `input`.\n",
        "\n",
        "        Make sure to both store the gradients in `gradInput` field and return it.\n",
        "        \"\"\"\n",
        "\n",
        "        # The easiest case:\n",
        "\n",
        "        # self.gradInput = gradOutput\n",
        "        # return self.gradInput\n",
        "\n",
        "        pass\n",
        "\n",
        "    def accGradParameters(self, input, gradOutput):\n",
        "        \"\"\"\n",
        "        Computing the gradient of the module with respect to its own parameters.\n",
        "        No need to override if module has no parameters (e.g. ReLU).\n",
        "        \"\"\"\n",
        "        pass\n",
        "\n",
        "    def zeroGradParameters(self):\n",
        "        \"\"\"\n",
        "        Zeroes `gradParams` variable if the module has params.\n",
        "        \"\"\"\n",
        "        pass\n",
        "\n",
        "    def getParameters(self):\n",
        "        \"\"\"\n",
        "        Returns a list with its parameters.\n",
        "        If the module does not have parameters return empty list.\n",
        "        \"\"\"\n",
        "        return []\n",
        "\n",
        "    def getGradParameters(self):\n",
        "        \"\"\"\n",
        "        Returns a list with gradients with respect to its parameters.\n",
        "        If the module does not have parameters return empty list.\n",
        "        \"\"\"\n",
        "        return []\n",
        "\n",
        "    def train(self):\n",
        "        \"\"\"\n",
        "        Sets training mode for the module.\n",
        "        Training and testing behaviour differs for Dropout, BatchNorm.\n",
        "        \"\"\"\n",
        "        self.training = True\n",
        "\n",
        "    def evaluate(self):\n",
        "        \"\"\"\n",
        "        Sets evaluation mode for the module.\n",
        "        Training and testing behaviour differs for Dropout, BatchNorm.\n",
        "        \"\"\"\n",
        "        self.training = False\n",
        "\n",
        "    def __repr__(self):\n",
        "        \"\"\"\n",
        "        Pretty printing. Should be overrided in every module if you want\n",
        "        to have readable description.\n",
        "        \"\"\"\n",
        "        return \"Module\""
      ]
    },
    {
      "cell_type": "markdown",
      "metadata": {
        "id": "mKRkIjT8j6eZ"
      },
      "source": [
        "# Sequential container"
      ]
    },
    {
      "cell_type": "markdown",
      "metadata": {
        "id": "Cb98PPpJj6ea"
      },
      "source": [
        "**Define** a forward and backward pass procedures."
      ]
    },
    {
      "cell_type": "code",
      "execution_count": null,
      "metadata": {
        "id": "7y2lav4dj6ea"
      },
      "outputs": [],
      "source": [
        "class Sequential(Module):\n",
        "    \"\"\"\n",
        "         This class implements a container, which processes `input` data sequentially.\n",
        "\n",
        "         `input` is processed by each module (layer) in self.modules consecutively.\n",
        "         The resulting array is called `output`.\n",
        "    \"\"\"\n",
        "\n",
        "    def __init__ (self):\n",
        "        super(Sequential, self).__init__()\n",
        "        self.modules = []\n",
        "\n",
        "    def add(self, module):\n",
        "        \"\"\"\n",
        "        Adds a module to the container.\n",
        "        \"\"\"\n",
        "        self.modules.append(module)\n",
        "\n",
        "    def updateOutput(self, input):\n",
        "        \"\"\"\n",
        "        Basic workflow of FORWARD PASS:\n",
        "\n",
        "            y_0    = module[0].forward(input)\n",
        "            y_1    = module[1].forward(y_0)\n",
        "            ...\n",
        "            output = module[n-1].forward(y_{n-2})\n",
        "\n",
        "\n",
        "        Just write a little loop.\n",
        "        \"\"\"\n",
        "\n",
        "        # Your code goes here. ################################################\n",
        "        current_output = input\n",
        "        for i, module in enumerate(self.modules):\n",
        "            current_output = module.forward(current_output)\n",
        "        self.output = current_output\n",
        "        return self.output\n",
        "\n",
        "    def backward(self, input, gradOutput):\n",
        "        \"\"\"\n",
        "        Workflow of BACKWARD PASS:\n",
        "\n",
        "            g_{n-1} = module[n-1].backward(y_{n-2}, gradOutput)\n",
        "            g_{n-2} = module[n-2].backward(y_{n-3}, g_{n-1})\n",
        "            ...\n",
        "            g_1 = module[1].backward(y_0, g_2)\n",
        "            gradInput = module[0].backward(input, g_1)\n",
        "\n",
        "\n",
        "        !!!\n",
        "\n",
        "        To ech module you need to provide the input, module saw while forward pass,\n",
        "        it is used while computing gradients.\n",
        "        Make sure that the input for `i-th` layer the output of `module[i]` (just the same input as in forward pass)\n",
        "        and NOT `input` to this Sequential module.\n",
        "\n",
        "        !!!\n",
        "\n",
        "        \"\"\"\n",
        "        # Your code goes here. ################################################\n",
        "        intermediate_outputs = [input]\n",
        "        for module in self.modules:\n",
        "            intermediate_outputs.append(module.forward(intermediate_outputs[-1]))\n",
        "        grad = gradOutput\n",
        "        for i in reversed(range(len(self.modules))):\n",
        "            grad = self.modules[i].backward(intermediate_outputs[i], grad)\n",
        "        self.gradInput = grad\n",
        "        return self.gradInput\n",
        "\n",
        "\n",
        "    def zeroGradParameters(self):\n",
        "        for module in self.modules:\n",
        "            module.zeroGradParameters()\n",
        "\n",
        "    def getParameters(self):\n",
        "        \"\"\"\n",
        "        Should gather all parameters in a list.\n",
        "        \"\"\"\n",
        "        return [x.getParameters() for x in self.modules]\n",
        "\n",
        "    def getGradParameters(self):\n",
        "        \"\"\"\n",
        "        Should gather all gradients w.r.t parameters in a list.\n",
        "        \"\"\"\n",
        "        return [x.getGradParameters() for x in self.modules]\n",
        "\n",
        "    def __repr__(self):\n",
        "        string = \"\".join([str(x) + '\\n' for x in self.modules])\n",
        "        return string\n",
        "\n",
        "    def __getitem__(self,x):\n",
        "        return self.modules.__getitem__(x)\n",
        "\n",
        "    def train(self):\n",
        "        \"\"\"\n",
        "        Propagates training parameter through all modules\n",
        "        \"\"\"\n",
        "        self.training = True\n",
        "        for module in self.modules:\n",
        "            module.train()\n",
        "\n",
        "    def evaluate(self):\n",
        "        \"\"\"\n",
        "        Propagates training parameter through all modules\n",
        "        \"\"\"\n",
        "        self.training = False\n",
        "        for module in self.modules:\n",
        "            module.evaluate()"
      ]
    },
    {
      "cell_type": "markdown",
      "metadata": {
        "id": "zfXdYfO4j6ea"
      },
      "source": [
        "# Layers"
      ]
    },
    {
      "cell_type": "markdown",
      "metadata": {
        "id": "ZuwvBkuNj6ea"
      },
      "source": [
        "## 1 (0.2). Linear transform layer\n",
        "Also known as dense layer, fully-connected layer, FC-layer, InnerProductLayer (in caffe), affine transform\n",
        "- input:   **`batch_size x n_feats1`**\n",
        "- output: **`batch_size x n_feats2`**"
      ]
    },
    {
      "cell_type": "code",
      "execution_count": null,
      "metadata": {
        "id": "D0uoyqkpj6ea"
      },
      "outputs": [],
      "source": [
        "class Linear(Module):\n",
        "    \"\"\"\n",
        "    A module which applies a linear transformation\n",
        "    A common name is fully-connected layer, InnerProductLayer in caffe.\n",
        "\n",
        "    The module should work with 2D input of shape (n_samples, n_feature).\n",
        "    \"\"\"\n",
        "    def __init__(self, n_in, n_out):\n",
        "        super(Linear, self).__init__()\n",
        "\n",
        "        # This is a nice initialization\n",
        "        stdv = 1./np.sqrt(n_in)\n",
        "        self.W = np.random.uniform(-stdv, stdv, size = (n_out, n_in))\n",
        "        self.b = np.random.uniform(-stdv, stdv, size = n_out)\n",
        "\n",
        "        self.gradW = np.zeros_like(self.W)\n",
        "        self.gradb = np.zeros_like(self.b)\n",
        "\n",
        "    def updateOutput(self, input):\n",
        "        # Your code goes here. ################################################\n",
        "        self.output = input @ self.W.T + self.b\n",
        "        return self.output\n",
        "\n",
        "    def updateGradInput(self, input, gradOutput):\n",
        "        # Your code goes here. ################################################\n",
        "        self.gradInput = gradOutput @ self.W\n",
        "        return self.gradInput\n",
        "\n",
        "    def accGradParameters(self, input, gradOutput):\n",
        "        # Your code goes here. ################################################\n",
        "        self.gradW += gradOutput.T @ input\n",
        "        self.gradb += gradOutput.sum(axis=0)\n",
        "        pass\n",
        "\n",
        "    def zeroGradParameters(self):\n",
        "        self.gradW.fill(0)\n",
        "        self.gradb.fill(0)\n",
        "\n",
        "    def getParameters(self):\n",
        "        return [self.W, self.b]\n",
        "\n",
        "    def getGradParameters(self):\n",
        "        return [self.gradW, self.gradb]\n",
        "\n",
        "    def __repr__(self):\n",
        "        s = self.W.shape\n",
        "        q = 'Linear %d -> %d' %(s[1],s[0])\n",
        "        return q"
      ]
    },
    {
      "cell_type": "markdown",
      "metadata": {
        "id": "tNOnHXZJj6eb"
      },
      "source": [
        "## 2. (0.2) SoftMax\n",
        "- input:   **`batch_size x n_feats`**\n",
        "- output: **`batch_size x n_feats`**\n",
        "\n",
        "$\\text{softmax}(x)_i = \\frac{\\exp x_i} {\\sum_j \\exp x_j}$\n",
        "\n",
        "Recall that $\\text{softmax}(x) == \\text{softmax}(x - \\text{const})$. It makes possible to avoid computing exp() from large argument."
      ]
    },
    {
      "cell_type": "code",
      "execution_count": null,
      "metadata": {
        "id": "VIValI0hj6eb"
      },
      "outputs": [],
      "source": [
        "class SoftMax(Module):\n",
        "    def __init__(self):\n",
        "         super(SoftMax, self).__init__()\n",
        "\n",
        "    def updateOutput(self, input):\n",
        "        # start with normalization for numerical stability\n",
        "        self.output = np.subtract(input, input.max(axis=1, keepdims=True))\n",
        "\n",
        "        # Your code goes here. ################################################\n",
        "        self.output = np.exp(self.output) / np.exp(self.output).sum(axis=1, keepdims=True)\n",
        "        return self.output\n",
        "\n",
        "    def updateGradInput(self, input, gradOutput):\n",
        "        # Your code goes here. ################################################\n",
        "        self.updateOutput(input)\n",
        "        batch_size = input.shape[0]\n",
        "        self.gradInput = np.zeros_like(input)\n",
        "        for i in range(batch_size):\n",
        "            s = self.output[i].reshape(-1, 1)\n",
        "            grad = gradOutput[i].reshape(-1, 1)\n",
        "            jacobian = np.diagflat(s) - s @ s.T\n",
        "            self.gradInput[i] = (jacobian @ grad).flatten()\n",
        "        return self.gradInput\n",
        "\n",
        "    def __repr__(self):\n",
        "        return \"SoftMax\""
      ]
    },
    {
      "cell_type": "markdown",
      "metadata": {
        "id": "Cy3DJjynj6eb"
      },
      "source": [
        "## 3. (0.2) LogSoftMax\n",
        "- input:   **`batch_size x n_feats`**\n",
        "- output: **`batch_size x n_feats`**\n",
        "\n",
        "$\\text{logsoftmax}(x)_i = \\log\\text{softmax}(x)_i = x_i - \\log {\\sum_j \\exp x_j}$\n",
        "\n",
        "The main goal of this layer is to be used in computation of log-likelihood loss."
      ]
    },
    {
      "cell_type": "code",
      "execution_count": null,
      "metadata": {
        "id": "Xo7DRdAJj6eb"
      },
      "outputs": [],
      "source": [
        "class LogSoftMax(Module):\n",
        "    def __init__(self):\n",
        "         super(LogSoftMax, self).__init__()\n",
        "\n",
        "    def updateOutput(self, input):\n",
        "        # start with normalization for numerical stability\n",
        "        self.output = np.subtract(input, input.max(axis=1, keepdims=True))\n",
        "\n",
        "        # Your code goes here. ################################################\n",
        "        self.output = self.output - np.log(np.exp(self.output).sum(axis=1, keepdims=True))\n",
        "        return self.output\n",
        "\n",
        "    def updateGradInput(self, input, gradOutput):\n",
        "        # Your code goes here. ################################################\n",
        "        self.updateOutput(input)\n",
        "        self.gradInput = gradOutput - np.exp(self.output) * gradOutput.sum(axis=1, keepdims=True)\n",
        "        return self.gradInput\n",
        "\n",
        "    def __repr__(self):\n",
        "        return \"LogSoftMax\""
      ]
    },
    {
      "cell_type": "markdown",
      "metadata": {
        "id": "QP5QdmmPj6eb"
      },
      "source": [
        "## 4. (0.3) Batch normalization\n",
        "One of the most significant recent ideas that impacted NNs a lot is [**Batch normalization**](http://arxiv.org/abs/1502.03167). The idea is simple, yet effective: the features should be whitened ($mean = 0$, $std = 1$) all the way through NN. This improves the convergence for deep models letting it train them for days but not weeks. **You are** to implement the first part of the layer: features normalization. The second part (`ChannelwiseScaling` layer) is implemented below.\n",
        "\n",
        "- input:   **`batch_size x n_feats`**\n",
        "- output: **`batch_size x n_feats`**\n",
        "\n",
        "The layer should work as follows. While training (`self.training == True`) it transforms input as $$y = \\frac{x - \\mu}  {\\sqrt{\\sigma + \\epsilon}}$$\n",
        "where $\\mu$ and $\\sigma$ - mean and variance of feature values in **batch** and $\\epsilon$ is just a small number for numericall stability. Also during training, layer should maintain exponential moving average values for mean and variance:\n",
        "```\n",
        "    self.moving_mean = self.moving_mean * alpha + batch_mean * (1 - alpha)\n",
        "    self.moving_variance = self.moving_variance * alpha + batch_variance * (1 - alpha)\n",
        "```\n",
        "During testing (`self.training == False`) the layer normalizes input using moving_mean and moving_variance.\n",
        "\n",
        "Note that decomposition of batch normalization on normalization itself and channelwise scaling here is just a common **implementation** choice. In general \"batch normalization\" always assumes normalization + scaling."
      ]
    },
    {
      "cell_type": "code",
      "execution_count": null,
      "metadata": {
        "id": "fGTTDqVgj6eb"
      },
      "outputs": [],
      "source": [
        "class BatchNormalization(Module):\n",
        "    EPS = 1e-3\n",
        "    def __init__(self, alpha = 0.):\n",
        "        super(BatchNormalization, self).__init__()\n",
        "        self.alpha = alpha\n",
        "        self.moving_mean = None\n",
        "        self.moving_variance = None\n",
        "\n",
        "    def updateOutput(self, input):\n",
        "        # Your code goes here. ################################################\n",
        "        # use self.EPS please\n",
        "        if self.training:\n",
        "            mean = input.mean(axis=0)\n",
        "            var = input.var(axis=0, ddof=0)\n",
        "            self.output = (input - mean) / np.sqrt(var + self.EPS)\n",
        "            if self.moving_mean is None:\n",
        "                self.moving_mean = mean\n",
        "                self.moving_variance = var\n",
        "            else:\n",
        "                self.moving_mean = self.alpha * self.moving_mean + (1 - self.alpha) * mean\n",
        "                self.moving_variance = self.alpha * self.moving_variance + (1 - self.alpha) * var\n",
        "        else:\n",
        "            self.output = (input - self.moving_mean) / np.sqrt(self.moving_variance + self.EPS)\n",
        "        return self.output\n",
        "\n",
        "    def updateGradInput(self, input, gradOutput):\n",
        "        # Your code goes here. ################################################\n",
        "        if self.training:\n",
        "            mean = input.mean(axis=0)\n",
        "            var = input.var(axis=0)\n",
        "            std = np.sqrt(var + self.EPS)\n",
        "            m = input.shape[0]\n",
        "            grad_mean = gradOutput.mean(axis=0)\n",
        "            grad_var = (gradOutput * (input - mean)).mean(axis=0) / (std**2)\n",
        "            self.gradInput = (gradOutput - grad_mean - (input - mean) * grad_var) / std\n",
        "            self.gradGamma = ((input - mean) * gradOutput / std).sum(axis=0)\n",
        "            self.gradBeta = gradOutput.sum(axis=0)\n",
        "        else:\n",
        "            self.gradInput = gradOutput\n",
        "        return self.gradInput\n",
        "\n",
        "    def __repr__(self):\n",
        "        return \"BatchNormalization\""
      ]
    },
    {
      "cell_type": "code",
      "execution_count": null,
      "metadata": {
        "id": "8XUS3Lt-j6eb"
      },
      "outputs": [],
      "source": [
        "class ChannelwiseScaling(Module):\n",
        "    \"\"\"\n",
        "       Implements linear transform of input y = \\gamma * x + \\beta\n",
        "       where \\gamma, \\beta - learnable vectors of length x.shape[-1]\n",
        "    \"\"\"\n",
        "    def __init__(self, n_out):\n",
        "        super(ChannelwiseScaling, self).__init__()\n",
        "\n",
        "        stdv = 1./np.sqrt(n_out)\n",
        "        self.gamma = np.random.uniform(-stdv, stdv, size=n_out)\n",
        "        self.beta = np.random.uniform(-stdv, stdv, size=n_out)\n",
        "\n",
        "        self.gradGamma = np.zeros_like(self.gamma)\n",
        "        self.gradBeta = np.zeros_like(self.beta)\n",
        "\n",
        "    def updateOutput(self, input):\n",
        "        self.output = input * self.gamma + self.beta\n",
        "        return self.output\n",
        "\n",
        "    def updateGradInput(self, input, gradOutput):\n",
        "        self.gradInput = gradOutput * self.gamma\n",
        "        return self.gradInput\n",
        "\n",
        "    def accGradParameters(self, input, gradOutput):\n",
        "        self.gradBeta = np.sum(gradOutput, axis=0)\n",
        "        self.gradGamma = np.sum(gradOutput*input, axis=0)\n",
        "\n",
        "    def zeroGradParameters(self):\n",
        "        self.gradGamma.fill(0)\n",
        "        self.gradBeta.fill(0)\n",
        "\n",
        "    def getParameters(self):\n",
        "        return [self.gamma, self.beta]\n",
        "\n",
        "    def getGradParameters(self):\n",
        "        return [self.gradGamma, self.gradBeta]\n",
        "\n",
        "    def __repr__(self):\n",
        "        return \"ChannelwiseScaling\""
      ]
    },
    {
      "cell_type": "markdown",
      "metadata": {
        "id": "vA5zjM3jj6eb"
      },
      "source": [
        "Practical notes. If BatchNormalization is placed after a linear transformation layer (including dense layer, convolutions, channelwise scaling) that implements function like `y = weight * x + bias`, than bias adding become useless and could be omitted since its effect will be discarded while batch mean subtraction. If BatchNormalization (followed by `ChannelwiseScaling`) is placed before a layer that propagates scale (including ReLU, LeakyReLU) followed by any linear transformation layer than parameter `gamma` in `ChannelwiseScaling` could be freezed since it could be absorbed into the linear transformation layer."
      ]
    },
    {
      "cell_type": "markdown",
      "metadata": {
        "id": "Gackeo1cj6eb"
      },
      "source": [
        "## 5. (0.3) Dropout\n",
        "Implement [**dropout**](https://www.cs.toronto.edu/~hinton/absps/JMLRdropout.pdf). The idea and implementation is really simple: just multimply the input by $Bernoulli(p)$ mask. Here $p$ is probability of an element to be zeroed.\n",
        "\n",
        "This has proven to be an effective technique for regularization and preventing the co-adaptation of neurons.\n",
        "\n",
        "While training (`self.training == True`) it should sample a mask on each iteration (for every batch), zero out elements and multiply elements by $1 / (1 - p)$. The latter is needed for keeping mean values of features close to mean values which will be in test mode. When testing this module should implement identity transform i.e. `self.output = input`.\n",
        "\n",
        "- input:   **`batch_size x n_feats`**\n",
        "- output: **`batch_size x n_feats`**"
      ]
    },
    {
      "cell_type": "code",
      "execution_count": null,
      "metadata": {
        "id": "NmLQV3jXj6eb"
      },
      "outputs": [],
      "source": [
        "class Dropout(Module):\n",
        "    def __init__(self, p=0.5):\n",
        "        super(Dropout, self).__init__()\n",
        "\n",
        "        self.p = p\n",
        "        self.mask = None\n",
        "\n",
        "    def updateOutput(self, input):\n",
        "        # Your code goes here. ################################################\n",
        "        if self.training:\n",
        "            self.mask = (np.random.random_sample(input.shape) > self.p).astype(np.float32)\n",
        "            self.output = input * self.mask / (1.0 - self.p)\n",
        "        else:\n",
        "            self.output = input.copy()\n",
        "        return  self.output\n",
        "\n",
        "    def updateGradInput(self, input, gradOutput):\n",
        "        # Your code goes here. ################################################\n",
        "        if self.training:\n",
        "            self.gradInput = gradOutput * self.mask / (1.0 - self.p)\n",
        "        else:\n",
        "            self.gradInput = gradOutput.copy()\n",
        "        return self.gradInput\n",
        "\n",
        "    def __repr__(self):\n",
        "        return \"Dropout\""
      ]
    },
    {
      "cell_type": "markdown",
      "metadata": {
        "id": "-WHGIqJFlhz2"
      },
      "source": [
        "# 6. (2.0) Conv2d\n",
        "Implement [**Conv2d**](https://pytorch.org/docs/stable/generated/torch.nn.Conv2d.html). Use only this list of parameters: (in_channels, out_channels, kernel_size, stride, padding, bias, padding_mode) and fix dilation=1 and groups=1."
      ]
    },
    {
      "cell_type": "code",
      "execution_count": null,
      "metadata": {
        "id": "c1RjNoEXlOHP"
      },
      "outputs": [],
      "source": [
        "class Conv2d(Module):\n",
        "    def __init__(self, in_channels, out_channels, kernel_size,\n",
        "                 stride=1, padding=0, bias=True, padding_mode='zeros'):\n",
        "        super(Conv2d, self).__init__()\n",
        "\n",
        "        self.in_channels = in_channels\n",
        "        self.out_channels = out_channels\n",
        "        self.kernel_size = (kernel_size, kernel_size) if isinstance(kernel_size, int) else kernel_size\n",
        "        self.stride = (stride, stride) if isinstance(stride, int) else stride\n",
        "\n",
        "        if padding == 'same':\n",
        "            self.padding = (int((self.kernel_size[0] - 1) / 2), int((self.kernel_size[1] - 1) / 2))\n",
        "        else:\n",
        "            self.padding = (padding, padding) if isinstance(padding, int) else padding\n",
        "\n",
        "        self.has_bias = bias\n",
        "        self.padding_mode = padding_mode\n",
        "\n",
        "        self.weight = np.random.randn(self.out_channels, self.in_channels, self.kernel_size[0], self.kernel_size[1])\n",
        "        self.gradWeight = np.zeros_like(self.weight)\n",
        "\n",
        "        if self.has_bias:  # Используем новое имя\n",
        "            self.bias = np.random.randn(out_channels)\n",
        "            self.gradBias = np.zeros_like(self.bias)\n",
        "\n",
        "        if self.padding_mode == 'zeros':\n",
        "            self.pad_mode = 'constant'\n",
        "            self.pad_value = 0\n",
        "        elif self.padding_mode == 'replicate':\n",
        "            self.pad_mode = 'edge'\n",
        "        elif self.padding_mode == 'reflect':\n",
        "            self.pad_mode = 'reflect'\n",
        "\n",
        "    def updateOutput(self, input):\n",
        "        batch_size = input.shape[0]\n",
        "        H_in, W_in = input.shape[2], input.shape[3]\n",
        "\n",
        "        H_out = int(np.floor((H_in + 2 * self.padding[0] - self.kernel_size[0]) / self.stride[0])) + 1\n",
        "        W_out = int(np.floor((W_in + 2 * self.padding[1] - self.kernel_size[1]) / self.stride[1])) + 1\n",
        "\n",
        "        self.output = np.zeros((batch_size, self.out_channels, H_out, W_out))\n",
        "\n",
        "        if self.pad_mode == 'constant':\n",
        "            self.input_pad = np.pad(\n",
        "                input,\n",
        "                ((0, 0), (0, 0),\n",
        "                (self.padding[0], self.padding[0]),\n",
        "                (self.padding[1], self.padding[1])),\n",
        "                mode=self.pad_mode,\n",
        "                constant_values=self.pad_value\n",
        "            )\n",
        "        else:\n",
        "            self.input_pad = np.pad(\n",
        "                input,\n",
        "                ((0, 0), (0, 0),\n",
        "                (self.padding[0], self.padding[0]),\n",
        "                (self.padding[1], self.padding[1])),\n",
        "                mode=self.pad_mode\n",
        "            )\n",
        "\n",
        "        for n in range(batch_size):\n",
        "            for c_out in range(self.out_channels):\n",
        "                for h_out in range(H_out):\n",
        "                    for w_out in range(W_out):\n",
        "                        h_start = h_out * self.stride[0]\n",
        "                        w_start = w_out * self.stride[1]\n",
        "\n",
        "                        receptive_field = self.input_pad[\n",
        "                            n,\n",
        "                            :,\n",
        "                            h_start:(h_start + self.kernel_size[0]),\n",
        "                            w_start:(w_start + self.kernel_size[1])\n",
        "                        ]\n",
        "\n",
        "                        self.output[n, c_out, h_out, w_out] = np.sum(\n",
        "                            receptive_field * self.weight[c_out]\n",
        "                        )\n",
        "\n",
        "                        if self.has_bias:  # Используем новое имя\n",
        "                            self.output[n, c_out, h_out, w_out] += self.bias[c_out]\n",
        "\n",
        "        return self.output\n",
        "\n",
        "    def updateGradInput(self, input, gradOutput):\n",
        "        def edge_mode(row, col, input_height, input_width, padding):\n",
        "            if row < padding[0]:\n",
        "                original_row = 0\n",
        "            elif row >= input_height + padding[0]:\n",
        "                original_row = input_height - 1\n",
        "            else:\n",
        "                original_row = row - padding[0]\n",
        "            if col < padding[1]:\n",
        "                original_col = 0\n",
        "            elif col >= input_width + padding[1]:\n",
        "                original_col = input_width - 1\n",
        "            else:\n",
        "                original_col = col - padding[1]\n",
        "            return original_row, original_col\n",
        "\n",
        "        def reflect_mode(row, col, input_height, input_width, padding):\n",
        "            original_row = row\n",
        "            if row < 0:\n",
        "                original_row = -row\n",
        "            elif row >= input_height:\n",
        "                original_row = 2 * (input_height - 1) - row\n",
        "\n",
        "            original_col = col\n",
        "            if col < 0:\n",
        "                original_col = -col\n",
        "            elif col >= input_width:\n",
        "                original_col = 2 * (input_width - 1) - col\n",
        "\n",
        "            return original_row, original_col\n",
        "\n",
        "        H_in, W_in = input.shape[2], input.shape[3]\n",
        "        batch_size, C_out, H_out, W_out = gradOutput.shape\n",
        "\n",
        "        self.gradInput = np.zeros_like(input)\n",
        "        for n in range(batch_size):\n",
        "            for c_out in range(C_out):\n",
        "                for h_out in range(H_out):\n",
        "                    for w_out in range(W_out):\n",
        "                        h_start = h_out * self.stride[0]\n",
        "                        w_start = w_out * self.stride[1]\n",
        "\n",
        "                        for c_in in range(self.in_channels):\n",
        "                            for h_ker in range(self.kernel_size[0]):\n",
        "                                for w_ker in range(self.kernel_size[1]):\n",
        "                                    h_in = h_start + h_ker - self.padding[0]\n",
        "                                    w_in = w_start + w_ker - self.padding[1]\n",
        "\n",
        "                                    if (0 <= h_in < H_in) and (0 <= w_in < W_in):\n",
        "                                        self.gradInput[n, c_in, h_in, w_in] += (\n",
        "                                            gradOutput[n, c_out, h_out, w_out] *\n",
        "                                            self.weight[c_out, c_in, h_ker, w_ker]\n",
        "                                        )\n",
        "                                    else:\n",
        "                                        if self.pad_mode == 'edge':\n",
        "                                            original_h, original_w = edge_mode(\n",
        "                                                h_in + self.padding[0],\n",
        "                                                w_in + self.padding[1],\n",
        "                                                H_in,\n",
        "                                                W_in,\n",
        "                                                self.padding\n",
        "                                            )\n",
        "                                        elif self.pad_mode == 'reflect':\n",
        "                                            original_h, original_w = reflect_mode(\n",
        "                                                h_in,\n",
        "                                                w_in,\n",
        "                                                H_in,\n",
        "                                                W_in,\n",
        "                                                self.padding\n",
        "                                            )\n",
        "\n",
        "                                        if self.pad_mode in ['edge', 'reflect']:\n",
        "                                            self.gradInput[n, c_in, original_h, original_w] += (\n",
        "                                                gradOutput[n, c_out, h_out, w_out] *\n",
        "                                                self.weight[c_out, c_in, h_ker, w_ker]\n",
        "                                            )\n",
        "\n",
        "        return self.gradInput\n",
        "\n",
        "    def accGradParameters(self, input, gradOutput):\n",
        "        batch_size, C_out, H_out, W_out = gradOutput.shape\n",
        "        for n in range(batch_size):\n",
        "            for c_out in range(C_out):\n",
        "                for h_out in range(H_out):\n",
        "                    for w_out in range(W_out):\n",
        "                        h_start = h_out * self.stride[0]\n",
        "                        w_start = w_out * self.stride[1]\n",
        "                        receptive_field = self.input_pad[\n",
        "                            n,\n",
        "                            :,\n",
        "                            h_start:(h_start + self.kernel_size[0]),\n",
        "                            w_start:(w_start + self.kernel_size[1])\n",
        "                        ]\n",
        "                        self.gradWeight[c_out] += (\n",
        "                            receptive_field * gradOutput[n, c_out, h_out, w_out]\n",
        "                        )\n",
        "                        if self.has_bias:\n",
        "                            self.gradBias[c_out] += gradOutput[n, c_out, h_out, w_out]\n",
        "\n",
        "    def zeroGradParameters(self):\n",
        "        self.gradWeight.fill(0)\n",
        "        if self.has_bias:\n",
        "            self.gradBias.fill(0)\n",
        "\n",
        "    def getParameters(self):\n",
        "        if self.has_bias:\n",
        "            return [self.weight, self.bias]\n",
        "        return [self.weight]\n",
        "\n",
        "    def getGradParameters(self):\n",
        "        if self.has_bias:\n",
        "            return [self.gradWeight, self.gradBias]\n",
        "        return [self.gradWeight]\n",
        "\n",
        "    def __repr__(self):\n",
        "        return \"Conv2d\""
      ]
    },
    {
      "cell_type": "markdown",
      "metadata": {
        "id": "updUVZE9qixP"
      },
      "source": [
        "# 7. (0.5) Implement [**MaxPool2d**](https://pytorch.org/docs/stable/generated/torch.nn.MaxPool2d.html) and [**AvgPool2d**](https://pytorch.org/docs/stable/generated/torch.nn.AvgPool2d.html).\n",
        "Use only parameters like kernel_size, stride, padding (negative infinity for maxpool and zero for avgpool) and other parameters fixed as in framework."
      ]
    },
    {
      "cell_type": "code",
      "execution_count": null,
      "metadata": {
        "id": "Qys58EzkqhLj"
      },
      "outputs": [],
      "source": [
        "class MaxPool2d(Module):\n",
        "    def __init__(self, kernel_size, stride, padding):\n",
        "        super(MaxPool2d, self).__init__()\n",
        "\n",
        "        self.kernel_size = kernel_size\n",
        "        self.stride = stride\n",
        "        self.padding = padding\n",
        "\n",
        "    def updateOutput(self, input):\n",
        "        # Your code goes here. ################################################\n",
        "        batch_size, in_channels, in_height, in_width = input.shape\n",
        "        k_h, k_w = (self.kernel_size, self.kernel_size) if isinstance(self.kernel_size, int) else self.kernel_size\n",
        "        s_h, s_w = (self.stride, self.stride) if isinstance(self.stride, int) else self.stride\n",
        "        p_h, p_w = (self.padding, self.padding) if isinstance(self.padding, int) else self.padding\n",
        "        out_height = (in_height + 2 * p_h - k_h) // s_h + 1\n",
        "        out_width = (in_width + 2 * p_w - k_w) // s_w + 1\n",
        "        self.output = np.zeros((batch_size, in_channels, out_height, out_width))\n",
        "        self.indices = np.zeros((batch_size, in_channels, out_height, out_width, 2), dtype=np.int32)\n",
        "        needs_padding = p_h > 0 or p_w > 0\n",
        "        input_padded = np.pad(input,\n",
        "                            ((0, 0), (0, 0),\n",
        "                             (p_h, p_h), (p_w, p_w)),\n",
        "                            mode='constant',\n",
        "                            constant_values=-np.inf) if needs_padding else input\n",
        "        for b in range(batch_size):\n",
        "            for c in range(in_channels):\n",
        "                for h_out in range(out_height):\n",
        "                    for w_out in range(out_width):\n",
        "                        h_start = h_out * s_h\n",
        "                        w_start = w_out * s_w\n",
        "                        window = input_padded[b, c, h_start:h_start+k_h, w_start:w_start+k_w]\n",
        "                        max_val = window.max()\n",
        "                        max_idx = np.unravel_index(window.argmax(), window.shape)\n",
        "                        self.output[b, c, h_out, w_out] = max_val\n",
        "                        self.indices[b, c, h_out, w_out] = (h_start + max_idx[0], w_start + max_idx[1])\n",
        "\n",
        "        return self.output\n",
        "\n",
        "    def updateGradInput(self, input, gradOutput):\n",
        "        # Your code goes here. ################################################\n",
        "        batch_size, in_channels, _, _ = input.shape\n",
        "        self.gradInput = np.zeros_like(input)\n",
        "        for b in range(batch_size):\n",
        "            for c in range(in_channels):\n",
        "                for h_out in range(gradOutput.shape[2]):\n",
        "                    for w_out in range(gradOutput.shape[3]):\n",
        "                        h_max, w_max = self.indices[b, c, h_out, w_out]\n",
        "                        self.gradInput[b, c, h_max, w_max] += gradOutput[b, c, h_out, w_out]\n",
        "\n",
        "        return self.gradInput\n",
        "\n",
        "    def __repr__(self):\n",
        "        return \"MaxPool2d\"\n",
        "\n",
        "\n",
        "class AvgPool2d(Module):\n",
        "    def __init__(self, kernel_size, stride, padding):\n",
        "        super(AvgPool2d, self).__init__()\n",
        "\n",
        "        self.kernel_size = (kernel_size, kernel_size) if isinstance(kernel_size, int) else kernel_size\n",
        "        self.stride = (stride, stride) if isinstance(stride, int) else stride\n",
        "        self.padding = (padding, padding) if isinstance(padding, int) else padding\n",
        "\n",
        "    def updateOutput(self, input):\n",
        "        # Your code goes here. ################################################\n",
        "        batch_size, channels, in_h, in_w = input.shape\n",
        "        k_h, k_w = self.kernel_size\n",
        "        s_h, s_w = self.stride\n",
        "        p_h, p_w = self.padding\n",
        "        out_h = (in_h + 2*p_h - k_h) // s_h + 1\n",
        "        out_w = (in_w + 2*p_w - k_w) // s_w + 1\n",
        "        if any(self.padding):\n",
        "            padded_input = np.pad(input,\n",
        "                                ((0, 0), (0, 0),\n",
        "                                 (p_h, p_h), (p_w, p_w)))\n",
        "        else:\n",
        "            padded_input = input\n",
        "        self.output = np.empty((batch_size, channels, out_h, out_w))\n",
        "        kernel_area = k_h * k_w\n",
        "        for n, c, h_out, w_out in np.ndindex(batch_size, channels, out_h, out_w):\n",
        "            h_start = h_out * s_h\n",
        "            w_start = w_out * s_w\n",
        "            window = padded_input[n, c, h_start:h_start+k_h, w_start:w_start+k_w]\n",
        "            self.output[n, c, h_out, w_out] = window.sum() / kernel_area\n",
        "\n",
        "        return self.output\n",
        "\n",
        "    def updateGradInput(self, input, gradOutput):\n",
        "        # Your code goes here. ################################################\n",
        "        batch_size, channels, out_h, out_w = gradOutput.shape\n",
        "        in_h, in_w = input.shape[2:]\n",
        "        k_h, k_w = self.kernel_size\n",
        "        kernel_area = k_h * k_w\n",
        "        self.gradInput = np.zeros_like(input)\n",
        "        for n, c, h_out, w_out in np.ndindex(batch_size, channels, out_h, out_w):\n",
        "            h_in = h_out * self.stride[0] - self.padding[0]\n",
        "            w_in = w_out * self.stride[1] - self.padding[1]\n",
        "            grad = gradOutput[n, c, h_out, w_out] / kernel_area\n",
        "            for h_k, w_k in np.ndindex(k_h, k_w):\n",
        "                hi, wi = h_in + h_k, w_in + w_k\n",
        "                if 0 <= hi < in_h and 0 <= wi < in_w:\n",
        "                    self.gradInput[n, c, hi, wi] += grad\n",
        "\n",
        "        return self.gradInput\n",
        "\n",
        "    def __repr__(self):\n",
        "        return \"AvgPool2d\""
      ]
    },
    {
      "cell_type": "markdown",
      "metadata": {
        "id": "KTN5R3CwrukV"
      },
      "source": [
        "# 8. (0.3) Implement **GlobalMaxPool2d** and **GlobalAvgPool2d**.\n",
        "They do not have testing and parameters are up to you but they must aggregate information within channels. Write test functions for these layers on your own."
      ]
    },
    {
      "cell_type": "code",
      "execution_count": null,
      "metadata": {
        "id": "h1M3t2cvHiGn"
      },
      "outputs": [],
      "source": [
        "class GlobalMaxPool2d(Module):\n",
        "    def __init__(self, keepdims):\n",
        "        super(GlobalMaxPool2d, self).__init__()\n",
        "        self.keepdims = keepdims\n",
        "\n",
        "    def updateOutput(self, input):\n",
        "        # Your code goes here. ################################################\n",
        "        batch_size, channels, height, width = input.shape\n",
        "        self.output = input.max(axis=(2, 3))\n",
        "        flattened = input.reshape(batch_size, channels, -1)\n",
        "        self.max_indices = flattened.argmax(axis=2)\n",
        "        if self.keepdims:\n",
        "            self.output = self.output.reshape(batch_size, channels, 1, 1)\n",
        "\n",
        "        return self.output\n",
        "\n",
        "    def updateGradInput(self, input, gradOutput):\n",
        "        # Your code goes here. ################################################\n",
        "        batch_size, channels = gradOutput.shape[:2]\n",
        "        height, width = input.shape[2:]\n",
        "        self.gradInput = np.zeros_like(input)\n",
        "        if self.keepdims:\n",
        "            gradOutput = gradOutput.reshape(batch_size, channels)\n",
        "        max_pos_h = self.max_indices // width\n",
        "        max_pos_w = self.max_indices % width\n",
        "        batch_idx, channel_idx = np.indices((batch_size, channels))\n",
        "        self.gradInput[batch_idx, channel_idx, max_pos_h, max_pos_w] = gradOutput\n",
        "\n",
        "        return self.gradInput\n",
        "\n",
        "    def __repr__(self):\n",
        "        return \"GlobalMaxPool2d\""
      ]
    },
    {
      "cell_type": "code",
      "execution_count": null,
      "metadata": {
        "id": "hF21JN2NHiGn"
      },
      "outputs": [],
      "source": [
        "class GlobalAvgPool2d(Module):\n",
        "    def __init__(self, keepdims):\n",
        "        super(GlobalAvgPool2d, self).__init__()\n",
        "        self.keepdims = keepdims\n",
        "\n",
        "    def updateOutput(self, input):\n",
        "        # Your code goes here. ################################################\n",
        "        batch_size, channels = input.shape[:2]\n",
        "        self.output = input.mean(axis=(2, 3))\n",
        "        if self.keepdims:\n",
        "            self.output = self.output.reshape(batch_size, channels, 1, 1)\n",
        "\n",
        "        return self.output\n",
        "\n",
        "    def updateGradInput(self, input, gradOutput):\n",
        "        # Your code goes here. ################################################\n",
        "        batch_size, channels = gradOutput.shape[:2]\n",
        "        height, width = input.shape[2:]\n",
        "        pixel_count = height * width\n",
        "        self.gradInput = np.zeros_like(input)\n",
        "        if self.keepdims:\n",
        "            gradOutput = gradOutput.reshape(batch_size, channels)\n",
        "        grad_value = gradOutput / pixel_count\n",
        "        self.gradInput = np.tile(grad_value[..., None, None], (1, 1, height, width))\n",
        "\n",
        "        return self.gradInput\n",
        "\n",
        "    def __repr__(self):\n",
        "        return \"GlobalAvgPool2d\""
      ]
    },
    {
      "cell_type": "markdown",
      "metadata": {
        "id": "cYeBQDBhtViy"
      },
      "source": [
        "# 9. (0.2) Implement [**Flatten**](https://pytorch.org/docs/stable/generated/torch.flatten.html)"
      ]
    },
    {
      "cell_type": "code",
      "execution_count": null,
      "metadata": {
        "id": "SimPEMOFqhTQ"
      },
      "outputs": [],
      "source": [
        "class Flatten(Module):\n",
        "    def __init__(self, start_dim=0, end_dim=-1):\n",
        "        super(Flatten, self).__init__()\n",
        "\n",
        "        self.start_dim = start_dim\n",
        "        self.end_dim = end_dim\n",
        "\n",
        "    def updateOutput(self, input):\n",
        "        # Your code goes here. ################################################\n",
        "        input_shape = input.shape\n",
        "        start_dim = self.start_dim\n",
        "        end_dim = self.end_dim if self.end_dim >= 0 else len(input_shape) + self.end_dim\n",
        "        preserved_dims = input_shape[:start_dim]\n",
        "        flatten_dims = input_shape[start_dim:end_dim+1]\n",
        "        remaining_dims = input_shape[end_dim+1:] if end_dim+1 < len(input_shape) else ()\n",
        "        flattened_size = 1\n",
        "        for dim in flatten_dims:\n",
        "            flattened_size *= dim\n",
        "        output_shape = preserved_dims + (flattened_size,) + remaining_dims\n",
        "        self.in_shape = input_shape\n",
        "        self.output = input.reshape(output_shape)\n",
        "        return  self.output\n",
        "\n",
        "    def updateGradInput(self, input, gradOutput):\n",
        "        # Your code goes here. ################################################\n",
        "        self.gradInput = gradOutput.reshape(self.in_shape)\n",
        "        return self.gradInput\n",
        "\n",
        "    def __repr__(self):\n",
        "        return \"Flatten\""
      ]
    },
    {
      "cell_type": "markdown",
      "metadata": {
        "id": "o36vPHSSj6eb"
      },
      "source": [
        "# Activation functions"
      ]
    },
    {
      "cell_type": "markdown",
      "metadata": {
        "id": "l_pryRQIj6ec"
      },
      "source": [
        "Here's the complete example for the **Rectified Linear Unit** non-linearity (aka **ReLU**):"
      ]
    },
    {
      "cell_type": "code",
      "execution_count": null,
      "metadata": {
        "id": "sgm8bXjKj6ec"
      },
      "outputs": [],
      "source": [
        "class ReLU(Module):\n",
        "    def __init__(self):\n",
        "         super(ReLU, self).__init__()\n",
        "\n",
        "    def updateOutput(self, input):\n",
        "        self.output = np.maximum(input, 0)\n",
        "        return self.output\n",
        "\n",
        "    def updateGradInput(self, input, gradOutput):\n",
        "        self.gradInput = np.multiply(gradOutput , input > 0)\n",
        "        return self.gradInput\n",
        "\n",
        "    def __repr__(self):\n",
        "        return \"ReLU\""
      ]
    },
    {
      "cell_type": "markdown",
      "metadata": {
        "id": "yB0UHGagj6ec"
      },
      "source": [
        "## 10. (0.1) Leaky ReLU\n",
        "Implement [**Leaky Rectified Linear Unit**](http://en.wikipedia.org/wiki%2FRectifier_%28neural_networks%29%23Leaky_ReLUs). Expriment with slope."
      ]
    },
    {
      "cell_type": "code",
      "execution_count": null,
      "metadata": {
        "id": "agwfkwO0j6ec"
      },
      "outputs": [],
      "source": [
        "class LeakyReLU(Module):\n",
        "    def __init__(self, slope = 0.03):\n",
        "        super(LeakyReLU, self).__init__()\n",
        "\n",
        "        self.slope = slope\n",
        "\n",
        "    def updateOutput(self, input):\n",
        "        # Your code goes here. ################################################\n",
        "        self.output = np.where(input > 0, input, self.slope * input)\n",
        "        return  self.output\n",
        "\n",
        "    def updateGradInput(self, input, gradOutput):\n",
        "        # Your code goes here. ################################################\n",
        "        self.gradInput = np.where(input > 0, gradOutput, self.slope * gradOutput)\n",
        "        return self.gradInput\n",
        "\n",
        "    def __repr__(self):\n",
        "        return \"LeakyReLU\""
      ]
    },
    {
      "cell_type": "markdown",
      "metadata": {
        "id": "t-STyecvj6ec"
      },
      "source": [
        "## 11. (0.1) ELU\n",
        "Implement [**Exponential Linear Units**](http://arxiv.org/abs/1511.07289) activations."
      ]
    },
    {
      "cell_type": "code",
      "execution_count": null,
      "metadata": {
        "id": "jJSzEu1mj6ec"
      },
      "outputs": [],
      "source": [
        "class ELU(Module):\n",
        "    def __init__(self, alpha = 1.0):\n",
        "        super(ELU, self).__init__()\n",
        "\n",
        "        self.alpha = alpha\n",
        "\n",
        "    def updateOutput(self, input):\n",
        "        # Your code goes here. ################################################\n",
        "        self.output = np.where(input > 0, input, self.alpha * (np.exp(input) - 1))\n",
        "        return  self.output\n",
        "\n",
        "    def updateGradInput(self, input, gradOutput):\n",
        "        # Your code goes here. ################################################\n",
        "        self.gradInput = np.where(input > 0, gradOutput, self.alpha * np.exp(input) * gradOutput)\n",
        "        return self.gradInput\n",
        "\n",
        "    def __repr__(self):\n",
        "        return \"ELU\""
      ]
    },
    {
      "cell_type": "markdown",
      "metadata": {
        "id": "Gn3C7KTqj6ec"
      },
      "source": [
        "## 12. (0.1) SoftPlus\n",
        "Implement [**SoftPlus**](https://en.wikipedia.org/wiki%2FRectifier_%28neural_networks%29) activations. Look, how they look a lot like ReLU."
      ]
    },
    {
      "cell_type": "code",
      "execution_count": null,
      "metadata": {
        "id": "xcDPMssrj6ec"
      },
      "outputs": [],
      "source": [
        "class SoftPlus(Module):\n",
        "    def __init__(self):\n",
        "        super(SoftPlus, self).__init__()\n",
        "\n",
        "    def updateOutput(self, input):\n",
        "        # Your code goes here. ################################################\n",
        "        self.output = np.log1p(np.exp(input))\n",
        "        return  self.output\n",
        "\n",
        "    def updateGradInput(self, input, gradOutput):\n",
        "        # Your code goes here. ################################################\n",
        "        self.gradInput = (1.0 / (1.0 + np.exp(-input))) * gradOutput\n",
        "        return self.gradInput\n",
        "\n",
        "    def __repr__(self):\n",
        "        return \"SoftPlus\""
      ]
    },
    {
      "cell_type": "markdown",
      "metadata": {
        "id": "kw3PeZjOuo0e"
      },
      "source": [
        "# 13. (0.2) Gelu\n",
        "Implement [**Gelu**](https://pytorch.org/docs/stable/generated/torch.nn.GELU.html) activations."
      ]
    },
    {
      "cell_type": "code",
      "execution_count": null,
      "metadata": {
        "id": "SdieE0Dtuo8j"
      },
      "outputs": [],
      "source": [
        "class Gelu(Module):\n",
        "    def __init__(self):\n",
        "        super(Gelu, self).__init__()\n",
        "\n",
        "    def updateOutput(self, input):\n",
        "        # Your code goes here. ################################################\n",
        "        sqrt_2_over_pi = np.sqrt(2 / np.pi)\n",
        "        alpha = 0.044715\n",
        "        x = input\n",
        "        x_cubed = x**3\n",
        "        inner = sqrt_2_over_pi * (x + alpha * x_cubed)\n",
        "        tanh_inner = np.tanh(inner)\n",
        "        self.output = 0.5 * x * (1 + tanh_inner)\n",
        "\n",
        "        return self.output\n",
        "\n",
        "    def updateGradInput(self, input, gradOutput):\n",
        "        # Your code goes here. ################################################\n",
        "        sqrt_2_over_pi = np.sqrt(2 / np.pi)\n",
        "        alpha = 0.044715\n",
        "        x = input\n",
        "        x_squared = x**2\n",
        "        x_cubed = x**3\n",
        "        inner = sqrt_2_over_pi * (x + alpha * x_cubed)\n",
        "        tanh_inner = np.tanh(inner)\n",
        "        dtanh_dinner = 1 - tanh_inner**2\n",
        "        dinner_dx = sqrt_2_over_pi * (1 + 3 * alpha * x_squared)\n",
        "        gelu_grad = 0.5 * (1 + tanh_inner) + 0.5 * x * dtanh_dinner * dinner_dx\n",
        "        self.gradInput = gradOutput * gelu_grad\n",
        "\n",
        "        return self.gradInput\n",
        "\n",
        "    def __repr__(self):\n",
        "        return \"Gelu\""
      ]
    },
    {
      "cell_type": "markdown",
      "metadata": {
        "id": "55p7UvPAj6ec"
      },
      "source": [
        "# Criterions"
      ]
    },
    {
      "cell_type": "markdown",
      "metadata": {
        "id": "5NFaxZaqj6ec"
      },
      "source": [
        "Criterions are used to score the models answers."
      ]
    },
    {
      "cell_type": "code",
      "execution_count": null,
      "metadata": {
        "id": "XGu45A8qj6ec"
      },
      "outputs": [],
      "source": [
        "class Criterion(object):\n",
        "    def __init__ (self):\n",
        "        self.output = None\n",
        "        self.gradInput = None\n",
        "\n",
        "    def forward(self, input, target):\n",
        "        \"\"\"\n",
        "            Given an input and a target, compute the loss function\n",
        "            associated to the criterion and return the result.\n",
        "\n",
        "            For consistency this function should not be overrided,\n",
        "            all the code goes in `updateOutput`.\n",
        "        \"\"\"\n",
        "        return self.updateOutput(input, target)\n",
        "\n",
        "    def backward(self, input, target):\n",
        "        \"\"\"\n",
        "            Given an input and a target, compute the gradients of the loss function\n",
        "            associated to the criterion and return the result.\n",
        "\n",
        "            For consistency this function should not be overrided,\n",
        "            all the code goes in `updateGradInput`.\n",
        "        \"\"\"\n",
        "        return self.updateGradInput(input, target)\n",
        "\n",
        "    def updateOutput(self, input, target):\n",
        "        \"\"\"\n",
        "        Function to override.\n",
        "        \"\"\"\n",
        "        return self.output\n",
        "\n",
        "    def updateGradInput(self, input, target):\n",
        "        \"\"\"\n",
        "        Function to override.\n",
        "        \"\"\"\n",
        "        return self.gradInput\n",
        "\n",
        "    def __repr__(self):\n",
        "        \"\"\"\n",
        "        Pretty printing. Should be overrided in every module if you want\n",
        "        to have readable description.\n",
        "        \"\"\"\n",
        "        return \"Criterion\""
      ]
    },
    {
      "cell_type": "markdown",
      "metadata": {
        "id": "WuU26xkpj6ec"
      },
      "source": [
        "The **MSECriterion**, which is basic L2 norm usually used for regression, is implemented here for you.\n",
        "- input:   **`batch_size x n_feats`**\n",
        "- target: **`batch_size x n_feats`**\n",
        "- output: **scalar**"
      ]
    },
    {
      "cell_type": "code",
      "execution_count": null,
      "metadata": {
        "id": "-i3VNuHhj6ec"
      },
      "outputs": [],
      "source": [
        "class MSECriterion(Criterion):\n",
        "    def __init__(self):\n",
        "        super(MSECriterion, self).__init__()\n",
        "\n",
        "    def updateOutput(self, input, target):\n",
        "        self.output = np.sum(np.power(input - target,2)) / input.shape[0]\n",
        "        return self.output\n",
        "\n",
        "    def updateGradInput(self, input, target):\n",
        "        self.gradInput  = (input - target) * 2 / input.shape[0]\n",
        "        return self.gradInput\n",
        "\n",
        "    def __repr__(self):\n",
        "        return \"MSECriterion\""
      ]
    },
    {
      "cell_type": "markdown",
      "metadata": {
        "id": "x8LKLWNVj6ec"
      },
      "source": [
        "## 14. (0.2) Negative LogLikelihood criterion (numerically unstable)\n",
        "You task is to implement the **ClassNLLCriterion**. It should implement [multiclass log loss](http://scikit-learn.org/stable/modules/model_evaluation.html#log-loss). Nevertheless there is a sum over `y` (target) in that formula,\n",
        "remember that targets are one-hot encoded. This fact simplifies the computations a lot. Note, that criterions are the only places, where you divide by batch size. Also there is a small hack with adding small number to probabilities to avoid computing log(0).\n",
        "- input:   **`batch_size x n_feats`** - probabilities\n",
        "- target: **`batch_size x n_feats`** - one-hot representation of ground truth\n",
        "- output: **scalar**\n",
        "\n"
      ]
    },
    {
      "cell_type": "code",
      "execution_count": null,
      "metadata": {
        "id": "die7KvW6j6ec"
      },
      "outputs": [],
      "source": [
        "class ClassNLLCriterionUnstable(Criterion):\n",
        "    EPS = 1e-15\n",
        "    def __init__(self):\n",
        "        a = super(ClassNLLCriterionUnstable, self)\n",
        "        super(ClassNLLCriterionUnstable, self).__init__()\n",
        "\n",
        "    def updateOutput(self, input, target):\n",
        "        # Your code goes here. ################################################\n",
        "        input_clamp = np.clip(input, self.EPS, 1 - self.EPS)\n",
        "        batch_size = input.shape[0]\n",
        "        log_probs = -np.log(input_clamp)\n",
        "        sample_losses = np.sum(log_probs * target, axis=1)\n",
        "        self.output = np.sum(sample_losses) / batch_size\n",
        "\n",
        "        return self.output\n",
        "\n",
        "    def updateGradInput(self, input, target):\n",
        "        # Your code goes here. ################################################\n",
        "        input_clamp = np.clip(input, self.EPS, 1 - self.EPS)\n",
        "        batch_size = input.shape[0]\n",
        "        self.gradInput = -target / input_clamp / batch_size\n",
        "\n",
        "        return self.gradInput\n",
        "\n",
        "    def __repr__(self):\n",
        "        return \"ClassNLLCriterionUnstable\""
      ]
    },
    {
      "cell_type": "markdown",
      "metadata": {
        "id": "uHr_JbU5j6ec"
      },
      "source": [
        "## 15. (0.3) Negative LogLikelihood criterion (numerically stable)\n",
        "- input:   **`batch_size x n_feats`** - log probabilities\n",
        "- target: **`batch_size x n_feats`** - one-hot representation of ground truth\n",
        "- output: **scalar**\n",
        "\n",
        "Task is similar to the previous one, but now the criterion input is the output of log-softmax layer. This decomposition allows us to avoid problems with computation of forward and backward of log()."
      ]
    },
    {
      "cell_type": "code",
      "execution_count": null,
      "metadata": {
        "id": "v7N8bVP9j6ec"
      },
      "outputs": [],
      "source": [
        "class ClassNLLCriterion(Criterion):\n",
        "    def __init__(self):\n",
        "        a = super(ClassNLLCriterion, self)\n",
        "        super(ClassNLLCriterion, self).__init__()\n",
        "\n",
        "    def updateOutput(self, input, target):\n",
        "        # Your code goes here. ################################################\n",
        "        batch_size = input.shape[0]\n",
        "        sample_scores = np.sum(input * target, axis=1)\n",
        "        self.output = -np.sum(sample_scores) / batch_size\n",
        "\n",
        "        return self.output\n",
        "\n",
        "    def updateGradInput(self, input, target):\n",
        "        # Your code goes here. ################################################\n",
        "        batch_size = input.shape[0]\n",
        "        self.gradInput = -target / batch_size\n",
        "\n",
        "        return self.gradInput\n",
        "\n",
        "    def __repr__(self):\n",
        "        return \"ClassNLLCriterion\""
      ]
    },
    {
      "cell_type": "code",
      "execution_count": null,
      "metadata": {
        "collapsed": true,
        "id": "E-ZnhKxaj6ed",
        "jupyter": {
          "outputs_hidden": true
        }
      },
      "outputs": [],
      "source": []
    },
    {
      "cell_type": "markdown",
      "metadata": {
        "id": "TC2Bf1PP2Ios"
      },
      "source": [
        "1-я часть задания: реализация слоев, лосей и функций активации - 5 баллов. \\\\\n",
        "2-я часть задания: реализация моделей на своих классах. Что должно быть:\n",
        "  1. Выберите оптимизатор и реализуйте его, чтоб он работал с вами классами. - 1 балл.\n",
        "  2. Модель для задачи мультирегрессии на выбраных вами данных. Использовать FCNN, dropout, batchnorm, MSE. Пробуйте различные фукнции активации. Для первой модели попробуйте большую, среднюю и маленькую модель. - 1 балл.\n",
        "  3. Модель для задачи мультиклассификации на MNIST. Использовать свёртки, макспулы, флэттэны, софтмаксы - 1 балла.\n",
        "  4. Автоэнкодер для выбранных вами данных. Должен быть на свёртках и полносвязных слоях, дропаутах, батчнормах и тд. - 2 балла. \\\\\n",
        "\n",
        "Дополнительно в оценке каждой модели будет учитываться:\n",
        "1. Наличие правильно выбранной метрики и лосс функции.\n",
        "2. Отрисовка графиков лосей и метрик на трейне-валидации. Проверка качества модели на тесте.\n",
        "3. Наличие шедулера для lr.\n",
        "4. Наличие вормапа.\n",
        "5. Наличие механизма ранней остановки и сохранение лучшей модели.\n",
        "6. Свитч лося (метрики) и оптимайзера."
      ]
    },
    {
      "cell_type": "markdown",
      "source": [
        "## **Задание №1**. Выберите оптимизатор и реализуйте его, чтоб он работал со всеми классами."
      ],
      "metadata": {
        "id": "xwIO1IHY_SR9"
      }
    },
    {
      "cell_type": "code",
      "execution_count": null,
      "metadata": {
        "id": "Aq0X5QV55ZH4"
      },
      "outputs": [],
      "source": [
        "################Adam-оптимизатор################\n",
        "class Adam:\n",
        "    def __init__(self, model, lr=1e-3, beta1=0.9, beta2=0.999, eps=1e-8, wd=0):\n",
        "        self.model = model\n",
        "        self.lr = lr\n",
        "        self.beta1 = beta1\n",
        "        self.beta2 = beta2\n",
        "        self.eps = eps\n",
        "        self.wd = wd\n",
        "        self.t = 0\n",
        "        self.m = {}\n",
        "        self.v = {}\n",
        "\n",
        "    def step(self):\n",
        "        params = self.model.getParameters()\n",
        "        grads = self.model.getGradParameters()\n",
        "\n",
        "        self.t += 1\n",
        "\n",
        "        for i, (param, grad) in enumerate(zip(params, grads)):\n",
        "            if param is None or grad is None or param.shape != grad.shape:\n",
        "                continue\n",
        "\n",
        "            if i not in self.m:\n",
        "                self.m[i] = np.zeros_like(param)\n",
        "                self.v[i] = np.zeros_like(param)\n",
        "\n",
        "            if self.wd > 0 and param.ndim > 1:\n",
        "                grad += self.wd * param\n",
        "\n",
        "            self.m[i] = self.beta1 * self.m[i] + (1 - self.beta1) * grad\n",
        "            self.v[i] = self.beta2 * self.v[i] + (1 - self.beta2) * (grad ** 2)\n",
        "\n",
        "            m_hat = self.m[i] / (1 - self.beta1 ** self.t)\n",
        "            v_hat = self.v[i] / (1 - self.beta2 ** self.t)\n",
        "\n",
        "            param -= self.lr * m_hat / (np.sqrt(v_hat) + self.eps)\n",
        "\n",
        "    def zero_grad(self):\n",
        "        self.model.zeroGradParameters()"
      ]
    },
    {
      "cell_type": "code",
      "source": [
        "##############Шедулер для LR#################\n",
        "class StepLearningRateScheduler:\n",
        "    def __init__(self, optimizer, step_interval, decay_factor=0.1):\n",
        "        self.optimizer = optimizer\n",
        "        self.step_interval = step_interval\n",
        "        self.decay_factor = decay_factor\n",
        "        self.current_epoch = 0\n",
        "\n",
        "    def update_lr(self):\n",
        "        self.current_epoch += 1\n",
        "        if self.current_epoch % self.step_interval == 0:\n",
        "            self.optimizer.lr *= self.decay_factor\n",
        "            print(f\"Learning rate обновлен: {self.optimizer.lr}\")"
      ],
      "metadata": {
        "id": "wTKMvw8NCbxh"
      },
      "execution_count": null,
      "outputs": []
    },
    {
      "cell_type": "markdown",
      "source": [
        "*Пример использования*"
      ],
      "metadata": {
        "id": "jUqO9FTSE0yl"
      }
    },
    {
      "cell_type": "code",
      "source": [
        "def batching(X, y, batch_size):\n",
        "    indices = np.arange(X.shape[0])\n",
        "    np.random.shuffle(indices)\n",
        "\n",
        "    for start_idx in range(0, len(indices), batch_size):\n",
        "        end_idx = min(start_idx + batch_size, len(indices))\n",
        "        batch_indices = indices[start_idx:end_idx]\n",
        "        yield X[batch_indices], y[batch_indices]"
      ],
      "metadata": {
        "id": "A3kmSkpUPKGb"
      },
      "execution_count": null,
      "outputs": []
    },
    {
      "cell_type": "code",
      "source": [
        "def train(model, criterion, optimizer, scheduler=None, X_train=None, y_train=None,\n",
        "          X_val=None, y_val=None, epochs=10, batch_size=32, metric_func=None, mode=\"classification\"):\n",
        "\n",
        "    history = {\n",
        "        'train_loss': [], 'val_loss': [],\n",
        "        'train_metric': [], 'val_metric': []\n",
        "    }\n",
        "\n",
        "    for epoch in range(epochs):\n",
        "        model.train()\n",
        "        epoch_train_loss, epoch_train_metric, epoch_train_samples = 0.0, 0.0, 0\n",
        "\n",
        "        for X_batch, y_batch in batching(X_train, y_train, batch_size):\n",
        "            optimizer.zero_grad()\n",
        "\n",
        "            y_pred = model.forward(X_batch)\n",
        "            loss = criterion.forward(y_pred, y_batch)\n",
        "            grad = criterion.backward(y_pred, y_batch)\n",
        "            model.backward(X_batch, grad)\n",
        "\n",
        "            optimizer.step()\n",
        "\n",
        "            epoch_train_loss += loss * X_batch.shape[0]\n",
        "            if metric_func:\n",
        "                y_pred_proc = np.argmax(y_pred, axis=-1) if mode == \"classification\" else y_pred\n",
        "                metric = metric_func(y_batch, y_pred_proc)\n",
        "                epoch_train_metric += metric * X_batch.shape[0]\n",
        "            epoch_train_samples += X_batch.shape[0]\n",
        "\n",
        "        model.evaluate()\n",
        "        epoch_val_loss, epoch_val_metric, epoch_val_samples = 0.0, 0.0, 0\n",
        "\n",
        "        for X_batch, y_batch in batching(X_val, y_val, batch_size):\n",
        "            y_pred = model.forward(X_batch)\n",
        "            loss = criterion.forward(y_pred, y_batch)\n",
        "            epoch_val_loss += loss * X_batch.shape[0]\n",
        "\n",
        "            if metric_func:\n",
        "                y_pred_proc = np.argmax(y_pred, axis=-1) if mode == \"classification\" else y_pred\n",
        "                metric = metric_func(y_batch, y_pred_proc)\n",
        "                epoch_val_metric += metric * X_batch.shape[0]\n",
        "            epoch_val_samples += X_batch.shape[0]\n",
        "\n",
        "        avg_train_loss = epoch_train_loss / epoch_train_samples\n",
        "        avg_val_loss = epoch_val_loss / epoch_val_samples\n",
        "        history['train_loss'].append(avg_train_loss)\n",
        "        history['val_loss'].append(avg_val_loss)\n",
        "\n",
        "        if metric_func:\n",
        "            avg_train_metric = epoch_train_metric / epoch_train_samples\n",
        "            avg_val_metric = epoch_val_metric / epoch_val_samples\n",
        "            history['train_metric'].append(avg_train_metric)\n",
        "            history['val_metric'].append(avg_val_metric)\n",
        "\n",
        "        old_lr = optimizer.lr\n",
        "        if scheduler:\n",
        "            scheduler.update_lr()\n",
        "            new_lr = optimizer.lr\n",
        "            if new_lr != old_lr:\n",
        "                print(f\"Learning rate изменен: {old_lr} -> {new_lr}\")\n",
        "\n",
        "        print(f\"Epoch {epoch + 1}/{epochs}: \"\n",
        "              f\"Train Loss: {avg_train_loss:.4f} | \"\n",
        "              f\"Val Loss: {avg_val_loss:.4f}\", end=\"\")\n",
        "\n",
        "        if metric_func:\n",
        "            print(f\" | Train Metric: {avg_train_metric:.4f} | \"\n",
        "                  f\"Val Metric: {avg_val_metric:.4f}\")\n",
        "        print()\n",
        "\n",
        "    return history['train_loss'], history['val_loss'], history['train_metric'], history['val_metric']\n"
      ],
      "metadata": {
        "id": "Z3RGUBxdDvXL"
      },
      "execution_count": null,
      "outputs": []
    },
    {
      "cell_type": "markdown",
      "source": [
        "Для визуализации работы кода выше можно использовать:\n",
        "\n",
        "**НАНЕСЕННЫЕ НА РИСУНОК ДАННЫЕ ДЛЯ ПРИМЕРА**"
      ],
      "metadata": {
        "id": "kj7t-3jiF12E"
      }
    },
    {
      "cell_type": "code",
      "source": [
        "def plot_loss_and_metric(train_loss, val_loss, train_metric=None, val_metric=None, epochs=10, metric_name=\"Metric\"):\n",
        "    plt.figure(figsize=(12, 6))\n",
        "\n",
        "    plt.subplot(1, 2, 1)\n",
        "    plt.plot(range(1, epochs + 1), train_loss, label=\"Train Loss\", color=\"blue\")\n",
        "    plt.plot(range(1, epochs + 1), val_loss, label=\"Validation Loss\", color=\"red\")\n",
        "    plt.xlabel(\"Epochs\")\n",
        "    plt.ylabel(\"Loss\")\n",
        "    plt.title(\"Train vs Validation Loss\")\n",
        "    plt.legend()\n",
        "\n",
        "    if train_metric is not None and val_metric is not None:\n",
        "        plt.subplot(1, 2, 2)\n",
        "        plt.plot(range(1, epochs + 1), train_metric, label=\"Train \" + metric_name, color=\"blue\")\n",
        "        plt.plot(range(1, epochs + 1), val_metric, label=\"Validation \" + metric_name, color=\"red\")\n",
        "        plt.xlabel(\"Epochs\")\n",
        "        plt.ylabel(metric_name)\n",
        "        plt.title(f\"Train vs Validation {metric_name}\")\n",
        "        plt.legend()\n",
        "\n",
        "    plt.tight_layout()\n",
        "    plt.show()\n",
        "\n",
        "###############чисто для проверки###############\n",
        "train_loss = [0.8, 0.6, 0.5, 0.4, 0.3]\n",
        "val_loss = [0.9, 0.7, 0.6, 0.5, 0.45]\n",
        "train_metric = [0.75, 0.8, 0.82, 0.85, 0.88]\n",
        "val_metric = [0.7, 0.75, 0.78, 0.8, 0.82]\n",
        "\n",
        "plot_loss_and_metric(train_loss, val_loss, train_metric, val_metric, epochs=5)\n"
      ],
      "metadata": {
        "colab": {
          "base_uri": "https://localhost:8080/",
          "height": 607
        },
        "id": "W5DZ5kaFF0Bq",
        "outputId": "89fbe67d-1272-471f-e800-834a57b7abad"
      },
      "execution_count": null,
      "outputs": [
        {
          "output_type": "display_data",
          "data": {
            "text/plain": [
              "<Figure size 1200x600 with 2 Axes>"
            ],
            "image/png": "[encoded data removed]"
          },
          "metadata": {}
        }
      ]
    },
    {
      "cell_type": "markdown",
      "source": [
        "## **Задание №2.** Модель для задачи мультирегрессии на выбраных вами данных."
      ],
      "metadata": {
        "id": "8qh3dLSUHCKa"
      }
    },
    {
      "cell_type": "code",
      "source": [
        "samples = 50000\n",
        "features = 10\n",
        "targets = 3"
      ],
      "metadata": {
        "id": "XZX0npC3GOCi"
      },
      "execution_count": null,
      "outputs": []
    },
    {
      "cell_type": "code",
      "source": [
        "W_true = np.random.randn(targets, features).astype(np.float32) * 2\n",
        "b_true = np.random.randn(targets).astype(np.float32) * 5"
      ],
      "metadata": {
        "id": "7-76Y1nXJYW5"
      },
      "execution_count": null,
      "outputs": []
    },
    {
      "cell_type": "code",
      "source": [
        "X_reg = np.random.rand(samples, features).astype(np.float32) * 10\n",
        "\n",
        "y_reg = (\n",
        "    X_reg @ W_true.T\n",
        "    + b_true\n",
        "    + np.random.randn(samples, targets).astype(np.float32) * 0.5\n",
        ").astype(np.float32)"
      ],
      "metadata": {
        "id": "7L77QxLEJb8l"
      },
      "execution_count": null,
      "outputs": []
    },
    {
      "cell_type": "code",
      "source": [
        "scaler = StandardScaler()\n",
        "X_reg_scaled = scaler.fit_transform(X_reg)"
      ],
      "metadata": {
        "id": "DEMEc_aWJhux"
      },
      "execution_count": null,
      "outputs": []
    },
    {
      "cell_type": "code",
      "source": [
        "X_train, X_test, y_train, y_test = train_test_split(X_reg_scaled, y_reg, test_size=0.2, random_state=42)\n",
        "X_train, X_val, y_train, y_val = train_test_split(X_train, y_train, test_size=0.15, random_state=42)"
      ],
      "metadata": {
        "id": "vY61aAXaJpHc"
      },
      "execution_count": null,
      "outputs": []
    },
    {
      "cell_type": "code",
      "source": [
        "def build_regression_model(input_features, output_targets, layer_size, num_layers, activation_function=ReLU, dropout_rate=0.0):\n",
        "    network = Sequential()\n",
        "    prev_size = input_features\n",
        "\n",
        "    for _ in range(num_layers):\n",
        "        network.add(Linear(prev_size, layer_size))\n",
        "        network.add(BatchNormalization())\n",
        "        network.add(ChannelwiseScaling(layer_size))\n",
        "        network.add(activation_function())\n",
        "\n",
        "        if dropout_rate > 0:\n",
        "            network.add(Dropout(dropout_rate))\n",
        "\n",
        "        prev_size = layer_size\n",
        "\n",
        "    network.add(Linear(prev_size, output_targets))\n",
        "    return network"
      ],
      "metadata": {
        "id": "85NvGdaYJx1B"
      },
      "execution_count": null,
      "outputs": []
    },
    {
      "cell_type": "code",
      "source": [
        "small = build_regression_model(input_features=features, output_targets=targets, layer_size=32, num_layers=1, activation_function=ReLU, dropout_rate=0.1)\n",
        "\n",
        "medium = build_regression_model(input_features=features, output_targets=targets, layer_size=64, num_layers=2, activation_function=ELU, dropout_rate=0.2)\n",
        "\n",
        "large = build_regression_model(input_features=features, output_targets=targets, layer_size=128, num_layers=3, activation_function=Gelu, dropout_rate=0.3)"
      ],
      "metadata": {
        "id": "NkZSywpVKO7M"
      },
      "execution_count": null,
      "outputs": []
    },
    {
      "cell_type": "markdown",
      "source": [
        "Обучим одну из моделей. Делается так из побуждений, что все одинаково в написании"
      ],
      "metadata": {
        "id": "pVTXOH6MMGlm"
      }
    },
    {
      "cell_type": "code",
      "source": [
        "criterion = MSECriterion()\n",
        "optimizer = Adam(small.getParameters(), lr=1e-3, wd=1e-4)\n",
        "scheduler = StepLearningRateScheduler(optimizer, step_interval=10, decay_factor=0.5)"
      ],
      "metadata": {
        "id": "YqD-LA3KLze5"
      },
      "execution_count": null,
      "outputs": []
    },
    {
      "cell_type": "code",
      "source": [
        "def train_model(model, criterion, optimizer, scheduler, epochs, batch_size):\n",
        "    for epoch in range(epochs):\n",
        "        model.train()\n",
        "        epoch_loss = 0\n",
        "\n",
        "        num_batches = len(X_train) // batch_size\n",
        "\n",
        "        for batch_idx in range(num_batches):\n",
        "            batch_start = batch_idx * batch_size\n",
        "            batch_end = (batch_idx + 1) * batch_size\n",
        "\n",
        "            X_batch = X_train[batch_start:batch_end]\n",
        "            y_batch = y_train[batch_start:batch_end]\n",
        "\n",
        "            model_output = model.forward(X_batch)\n",
        "\n",
        "            loss = criterion.forward(model_output, y_batch)\n",
        "\n",
        "            model.zeroGradParameters()\n",
        "            grad_output = criterion.backward(model_output, y_batch)\n",
        "            model.backward(grad_output)\n",
        "\n",
        "            optimizer.step()\n",
        "\n",
        "            epoch_loss += loss\n",
        "\n",
        "        scheduler.update_lr()"
      ],
      "metadata": {
        "id": "CoTCe710NPvP"
      },
      "execution_count": null,
      "outputs": []
    },
    {
      "cell_type": "markdown",
      "source": [
        "## **Задача №3.** Модель для задачи мультиклассификации на MNIST."
      ],
      "metadata": {
        "id": "f3VtPP9_V8M7"
      }
    },
    {
      "cell_type": "code",
      "source": [
        "train_data = MNIST(root=\"./data\", train=True, download=True, transform=ToTensor())\n",
        "test_data = MNIST(root=\"./data\", train=False, download=True, transform=ToTensor())\n",
        "\n",
        "X_train_val = train_data.data.numpy().astype(np.float32)\n",
        "X_test = test_data.data.numpy().astype(np.float32)\n",
        "y_train_val = train_data.targets.numpy()\n",
        "y_test = test_data.targets.numpy()\n",
        "\n",
        "mean, std = np.mean(X_train_val, axis=(0, 1, 2), keepdims=True), np.std(X_train_val, axis=(0, 1, 2), keepdims=True)\n",
        "X_train_val = (X_train_val - mean) / (std + 1e-7)\n",
        "X_test = (X_test - mean) / (std + 1e-7)\n",
        "\n",
        "X_train_val, X_test = X_train_val[:, None, :, :], X_test[:, None, :, :]\n",
        "\n",
        "X_train, X_val, y_train, y_val = train_test_split(X_train_val, y_train_val, test_size=0.15, random_state=42, stratify=y_train_val)"
      ],
      "metadata": {
        "id": "obBrD4oUXy3G"
      },
      "execution_count": null,
      "outputs": []
    },
    {
      "cell_type": "code",
      "source": [
        "def create_classification_model():\n",
        "    model = Sequential()\n",
        "\n",
        "    model.add(Conv2d(in_channels=1, out_channels=8, kernel_size=5, padding=2))\n",
        "    model.add(ReLU())\n",
        "    model.add(MaxPool2d(kernel_size=2, stride=2, padding=1))\n",
        "\n",
        "    model.add(Conv2d(in_channels=8, out_channels=16, kernel_size=3, padding=1))\n",
        "    model.add(ReLU())\n",
        "    model.add(MaxPool2d(kernel_size=2, stride=2, padding=1))\n",
        "\n",
        "    model.add(Flatten())\n",
        "\n",
        "    model.add(Linear(n_in=16 * 7 * 7, n_out=128))\n",
        "    model.add(ReLU())\n",
        "    model.add(Dropout(0.25))\n",
        "\n",
        "    model.add(Linear(n_in=128, n_out=10))\n",
        "    model.add(SoftMax())\n",
        "\n",
        "    return model"
      ],
      "metadata": {
        "id": "mA6iHsGcYve7"
      },
      "execution_count": null,
      "outputs": []
    },
    {
      "cell_type": "code",
      "source": [
        "\n",
        "model_clf = create_classification_model()"
      ],
      "metadata": {
        "id": "H1_tE1kcY0la"
      },
      "execution_count": null,
      "outputs": []
    },
    {
      "cell_type": "markdown",
      "source": [
        "*и тут должно быть обучение......*"
      ],
      "metadata": {
        "id": "sLIQuPi8Y88I"
      }
    },
    {
      "cell_type": "markdown",
      "source": [
        "![photo_2025-03-31 02.31.01.jpeg](data:image/jpeg;base64,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)"
      ],
      "metadata": {
        "id": "_dDZNr-2ZRIi"
      }
    },
    {
      "cell_type": "code",
      "source": [],
      "metadata": {
        "id": "k9UjM57LZVpQ"
      },
      "execution_count": null,
      "outputs": []
    }
  ],
  "metadata": {
    "colab": {
      "provenance": []
    },
    "kernelspec": {
      "display_name": "Python 3 (ipykernel)",
      "language": "python",
      "name": "python3"
    },
    "language_info": {
      "codemirror_mode": {
        "name": "ipython",
        "version": 3
      },
      "file_extension": ".py",
      "mimetype": "text/x-python",
      "name": "python",
      "nbconvert_exporter": "python",
      "pygments_lexer": "ipython3",
      "version": "3.12.4"
    }
  },
  "nbformat": 4,
  "nbformat_minor": 0
}